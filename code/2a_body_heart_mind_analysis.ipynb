{
 "cells": [
  {
   "cell_type": "markdown",
   "id": "09a0eae6",
   "metadata": {},
   "source": [
    "# 2A. Body-Heart-Mind Categorization Analysis"
   ]
  },
  {
   "cell_type": "code",
   "execution_count": 2,
   "id": "07c11391",
   "metadata": {},
   "outputs": [],
   "source": [
    "%load_ext autoreload\n",
    "%autoreload 2\n",
    "%reload_ext rpy2.ipython\n",
    "\n",
    "import os, sys\n",
    "import pandas as pd\n",
    "\n",
    "sys.path.insert(0, 'src')\n",
    "import utils\n",
    "import visualizations\n",
    "import analysis\n"
   ]
  },
  {
   "cell_type": "code",
   "execution_count": 3,
   "id": "aed8ec85",
   "metadata": {},
   "outputs": [
    {
     "name": "stdout",
     "output_type": "stream",
     "text": [
      "[0625_102556] Parent save directory: ../analysis\n",
      "[0625_102556] Timing save directory: ../analysis/timings\n",
      "[0625_102556] Demographics save directory: ../analysis/demographics\n",
      "[0625_102556] Mental capacity save directory: ../analysis/mental_capacities\n",
      "[0625_102556] Mental capacity ratings statistics save directory: ../analysis/mental_capacities/statistics\n",
      "[0625_102556] Body-heart-mind save dir: ../analysis/mental_capacities/body-heart-mind\n",
      "[0625_102556] Exploratory save directory: ../analysis/exploratory\n"
     ]
    }
   ],
   "source": [
    "# Exclusion parameters\n",
    "min_survey_time = round(80 / 60, 4) # ~80 seconds\n",
    "min_median_per_page_time = round(1 / 60, 4) # ~1 second\n",
    "post_attention_check = True\n",
    "\n",
    "'''\n",
    "Commonly used Paths/Items\n",
    "'''\n",
    "PATH_TO_ROOT = '..'\n",
    "overwrite = False\n",
    "items_path = os.path.join(PATH_TO_ROOT, 'data/files/mental_capacity_items.txt')\n",
    "categories_path = os.path.join(PATH_TO_ROOT, 'data/files/category_groupings.json')\n",
    "save_ext = 'pdf' # File extension for saving visualizations\n",
    "separate_groups = False  # If True, create separate CSV for items of different groups for analysis\n",
    "\n",
    "'''\n",
    "Save dirs\n",
    "'''\n",
    "\n",
    "# Make save directory\n",
    "save_dir = os.path.join(PATH_TO_ROOT, 'analysis')\n",
    "utils.ensure_dir(save_dir)\n",
    "utils.informal_log(\"Parent save directory: {}\".format(save_dir))\n",
    "\n",
    "# Timing save dir\n",
    "time_save_dir = os.path.join(save_dir, 'timings')\n",
    "utils.ensure_dir(time_save_dir)\n",
    "utils.informal_log(\"Timing save directory: {}\".format(time_save_dir))\n",
    "\n",
    "# Demographics post-exclusions\n",
    "demographics_save_dir = os.path.join(save_dir, 'demographics')\n",
    "utils.ensure_dir(demographics_save_dir)\n",
    "utils.informal_log(\"Demographics save directory: {}\".format(demographics_save_dir))\n",
    "\n",
    "# Ratings CSV save dir\n",
    "ratings_save_dir = os.path.join(save_dir, 'mental_capacities')\n",
    "ratings_path = os.path.join(ratings_save_dir, 'ratings.csv')\n",
    "utils.ensure_dir(ratings_save_dir)\n",
    "utils.informal_log(\"Mental capacity save directory: {}\".format(ratings_save_dir))\n",
    "\n",
    "# Rating statistics save directory\n",
    "rating_stats_save_dir = os.path.join(ratings_save_dir, 'statistics')\n",
    "utils.ensure_dir(rating_stats_save_dir)\n",
    "utils.informal_log(\"Mental capacity ratings statistics save directory: {}\".format(rating_stats_save_dir))\n",
    "\n",
    "# R CSV save dir for Body Heart Mind\n",
    "bhm_save_dir = os.path.join(ratings_save_dir, 'body-heart-mind')\n",
    "utils.ensure_dir(bhm_save_dir)\n",
    "utils.informal_log(\"Body-heart-mind save dir: {}\".format(bhm_save_dir))\n",
    "\n",
    "R_input_dir = os.path.join(bhm_save_dir, 'R', 'input_files')\n",
    "utils.ensure_dir(R_input_dir)\n",
    "\n",
    "# R results save dir for Body Heart Mind\n",
    "R_results_save_dir = os.path.join(ratings_save_dir, 'body-heart-mind', 'R', 'results')\n",
    "utils.ensure_dir(R_results_save_dir)\n",
    "\n",
    "# Save dir for factor analysis\n",
    "fa_save_dir = os.path.join(ratings_save_dir, 'factor_analysis')\n",
    "utils.ensure_dir(fa_save_dir)\n",
    "\n",
    "# Save dir for k-fold factor analysis\n",
    "fa_kfold_save_dir = os.path.join(fa_save_dir, 'kfold')\n",
    "utils.ensure_dir(fa_kfold_save_dir)\n",
    "\n",
    "# Save dir for factor analysis results\n",
    "fa_results_save_dir = os.path.join(fa_save_dir, 'results')\n",
    "utils.ensure_dir(fa_results_save_dir)\n",
    "\n",
    "# Save dir for R analysis based on factor loading groupings\n",
    "fa_R_input_dir = os.path.join(fa_results_save_dir, 'R', 'input_files')\n",
    "utils.ensure_dir(fa_R_input_dir)\n",
    "\n",
    "# Save dir for R analysis output based on factor loading groupings\n",
    "fa_R_results_dir = os.path.join(fa_results_save_dir, 'R', 'results')\n",
    "utils.ensure_dir(fa_R_results_dir)\n",
    "\n",
    "# Mentioned/Unmentioned save dir\n",
    "mentioned_save_dir = os.path.join(bhm_save_dir, 'mentioned_analysis')\n",
    "utils.ensure_dir(mentioned_save_dir)\n",
    "\n",
    "mentioned_R_csv_save_dir = os.path.join(mentioned_save_dir, 'R', 'input_files')\n",
    "utils.ensure_dir(mentioned_R_csv_save_dir)\n",
    "\n",
    "mentioned_R_result_save_dir = os.path.join(mentioned_save_dir, 'R', 'results')\n",
    "utils.ensure_dir(mentioned_R_result_save_dir)\n",
    "\n",
    "# item-level analyses with R save dir\n",
    "item_level_save_dir = os.path.join(ratings_save_dir, 'item_level')\n",
    "utils.ensure_dir(item_level_save_dir)\n",
    "\n",
    "# Attitudes save dir\n",
    "attitudes_save_dir = os.path.join(save_dir, 'attitudes')\n",
    "utils.ensure_dir(attitudes_save_dir)\n",
    "\n",
    "# Attitudes R CSV save dir\n",
    "addit_dv_r_csv_save_dir = os.path.join(attitudes_save_dir, 'R', 'input_files')\n",
    "utils.ensure_dir(addit_dv_r_csv_save_dir)\n",
    "\n",
    "# Attitudes R results save dir\n",
    "addit_dv_r_result_save_dir = os.path.join(attitudes_save_dir, 'R', 'results')\n",
    "utils.ensure_dir(addit_dv_r_result_save_dir)\n",
    "\n",
    "# Exploratory analysis save dir\n",
    "exploratory_save_dir = os.path.join(save_dir, 'exploratory')\n",
    "utils.informal_log(\"Exploratory save directory: {}\".format(exploratory_save_dir))\n",
    "\n",
    "# Attitudes Correlations save dir\n",
    "correlation_dir = os.path.join(exploratory_save_dir, 'correlations')\n",
    "utils.ensure_dir(correlation_dir)\n",
    "\n",
    "# Reliability save dir\n",
    "reliability_save_dir = os.path.join(exploratory_save_dir, 'reliability')\n",
    "utils.ensure_dir(reliability_save_dir)"
   ]
  },
  {
   "cell_type": "markdown",
   "id": "38630f97",
   "metadata": {},
   "source": [
    "## Data Prep for Mixed Effects Models using Body-Heart-Mind Categories\n"
   ]
  },
  {
   "cell_type": "code",
   "execution_count": 3,
   "id": "e4103099",
   "metadata": {},
   "outputs": [
    {
     "name": "stdout",
     "output_type": "stream",
     "text": [
      "[0625_095503] Preparing dataframes for R analysis\n",
      "Saved file to ../analysis/mental_capacities/body-heart-mind/R/input_files/body-heart-mind.csv\n",
      "Saved file to ../analysis/mental_capacities/body-heart-mind/R/input_files/paths.json\n",
      "[0625_095503] \n",
      "Copying item groupings with R formatting\n",
      "Saved file to ../analysis/mental_capacities/body-heart-mind/R/input_files/body-heart-mind_body_items.txt\n",
      "Saved file to ../analysis/mental_capacities/body-heart-mind/R/input_files/body-heart-mind_heart_items.txt\n",
      "Saved file to ../analysis/mental_capacities/body-heart-mind/R/input_files/body-heart-mind_mind_items.txt\n",
      "Saved file to ../analysis/mental_capacities/body-heart-mind/R/input_files/body-heart-mind_items.txt\n"
     ]
    }
   ],
   "source": [
    "rating_df = utils.read_file(ratings_path)\n",
    "groupings = utils.read_file(categories_path)\n",
    "utils.informal_log(\"Preparing dataframes for R analysis\")\n",
    "analysis.prepare_R_df(\n",
    "    rating_df=rating_df,\n",
    "    groupings=groupings,\n",
    "    save_dir=R_input_dir,\n",
    "    separate_groups=separate_groups,\n",
    "    overwrite=overwrite)\n",
    "\n",
    "utils.informal_log(\"\\nCopying item groupings with R formatting\")\n",
    "items = utils.read_file(items_path)\n",
    "analysis.copy_groupings(\n",
    "    groupings=groupings,\n",
    "    all_items=items,\n",
    "    save_dir=R_input_dir)"
   ]
  },
  {
   "cell_type": "markdown",
   "id": "3ad744e6",
   "metadata": {},
   "source": [
    "## Run R Analysis to get effect of condition and body-heart-mind categories\n",
    "Mixed Effects Model: `rating ~ portrayal * category + (1 | pid)`"
   ]
  },
  {
   "cell_type": "code",
   "execution_count": 4,
   "id": "fd27041e",
   "metadata": {},
   "outputs": [
    {
     "name": "stdout",
     "output_type": "stream",
     "text": [
      "Saving results to ../analysis/mental_capacities/body-heart-mind/R/results/body-heart-mind_results.txt \n"
     ]
    },
    {
     "data": {
      "text/plain": [
       "Loading required package: lme4\n",
       "Loading required package: Matrix\n",
       "\n",
       "Attaching package: ‘lmerTest’\n",
       "\n",
       "The following object is masked from ‘package:lme4’:\n",
       "\n",
       "    lmer\n",
       "\n",
       "The following object is masked from ‘package:stats’:\n",
       "\n",
       "    step\n",
       "\n",
       "\n",
       "Attaching package: ‘dplyr’\n",
       "\n",
       "The following objects are masked from ‘package:stats’:\n",
       "\n",
       "    filter, lag\n",
       "\n",
       "The following objects are masked from ‘package:base’:\n",
       "\n",
       "    intersect, setdiff, setequal, union\n",
       "\n",
       "\n",
       "Attaching package: ‘tidyr’\n",
       "\n",
       "The following objects are masked from ‘package:Matrix’:\n",
       "\n",
       "    expand, pack, unpack\n",
       "\n",
       "Welcome to emmeans.\n",
       "Caution: You lose important information if you filter this package's results.\n",
       "See '? untidy'\n",
       "NOTE: Results may be misleading due to involvement in interactions\n",
       "NOTE: Results may be misleading due to involvement in interactions\n",
       "refitting model(s) with ML (instead of REML)\n",
       "NOTE: Results may be misleading due to involvement in interactions\n",
       "refitting model(s) with ML (instead of REML)\n",
       "In addition: Warning message:\n",
       "In (function (package, help, pos = 2, lib.loc = NULL, character.only = FALSE,  :\n",
       "  library ‘/usr/share/R/library’ contains no packages\n"
      ]
     },
     "metadata": {},
     "output_type": "display_data"
    }
   ],
   "source": [
    "%%R\n",
    "\n",
    "source(\"src/mixed_effect_models.R\")\n",
    "rating_analysis(\n",
    "    df_path=\"../analysis/mental_capacities/body-heart-mind/R/input_files/body-heart-mind.csv\",\n",
    "    save_dir=\"../analysis/mental_capacities/body-heart-mind/R/results\",\n",
    "    save_txt=TRUE\n",
    ")"
   ]
  },
  {
   "cell_type": "code",
   "execution_count": 8,
   "id": "489fe2df",
   "metadata": {},
   "outputs": [
    {
     "name": "stdout",
     "output_type": "stream",
     "text": [
      "Running item level analysis (~1 minute)...\n",
      "Saving results to ../analysis/mental_capacities/item_level/results.txt \n"
     ]
    },
    {
     "data": {
      "text/plain": [
       "\n",
       "Correlation matrix not shown by default, as p = 160 > 12.\n",
       "Use print(summary(model), correlation=TRUE)  or\n",
       "    vcov(summary(model))        if you need it\n",
       "\n",
       "NOTE: Results may be misleading due to involvement in interactions\n",
       "refitting model(s) with ML (instead of REML)\n"
      ]
     },
     "metadata": {},
     "output_type": "display_data"
    }
   ],
   "source": [
    "%%R\n",
    "source(\"src/mixed_effect_models.R\")\n",
    "# Item level analysis\n",
    "cat(\"Running item level analysis (~1 minute)...\\n\")\n",
    "df_path <- \"../analysis/mental_capacities/body-heart-mind/R/input_files/body-heart-mind.csv\" # this could be from either BHM or FA\n",
    "item_level_rating_analysis(\n",
    "    df_path=df_path,\n",
    "    save_dir=\"../analysis/mental_capacities/item_level\",\n",
    "    save_txt=TRUE\n",
    ")"
   ]
  },
  {
   "cell_type": "markdown",
   "id": "e24129fe",
   "metadata": {},
   "source": [
    "## Effect of Unmentioned Mental Capacities\n",
    "\n",
    "Conducted using `mentioned` as a binary predictor. This is result reported in CogSci version of the paper.\n"
   ]
  },
  {
   "cell_type": "code",
   "execution_count": 4,
   "id": "7d30122f",
   "metadata": {},
   "outputs": [
    {
     "name": "stdout",
     "output_type": "stream",
     "text": [
      "[0625_102602] Preparing DFs for mentioned vs unmentioned R analysis\n",
      "Saved file to ../analysis/mental_capacities/body-heart-mind/mentioned_analysis/R/input_files/mentioned_analysis.csv\n",
      "Saved file to ../analysis/mental_capacities/body-heart-mind/mentioned_analysis/R/input_files/paths.json\n",
      "[0625_102602] \n",
      "Copying item groupings with R formatting\n",
      "Saved file to ../analysis/mental_capacities/body-heart-mind/mentioned_analysis/R/input_files/mentioned_analysis_unmentioned_items.txt\n",
      "Saved file to ../analysis/mental_capacities/body-heart-mind/mentioned_analysis/R/input_files/mentioned_analysis_mentioned_items.txt\n",
      "Saved file to ../analysis/mental_capacities/body-heart-mind/mentioned_analysis/R/input_files/mentioned_analysis_items.txt\n"
     ]
    }
   ],
   "source": [
    "# Create file that separates items into mentioned/not mentioned (labeled mentioned/unmentioned for brevity)\n",
    "def prep_mentioned_analysis(groupings_path,\n",
    "                          items,\n",
    "                          condition=\"mentioned\"):\n",
    "    if condition == \"mentioned\":\n",
    "        # Items that are mentioned to in intentional video\n",
    "        related_set = set([\n",
    "            \"communicating with others\",\n",
    "            \"having a personality\",\n",
    "            \"having intelligence\",\n",
    "            \"knowing things\",\n",
    "            \"understanding how others are feeling\"])\n",
    "    else:\n",
    "        raise ValueError(\"Condition {} not yet supported\".format(condition))\n",
    "\n",
    "    if os.path.exists(groupings_path):\n",
    "        groupings = utils.read_file(groupings_path)\n",
    "        return groupings\n",
    "    else:\n",
    "        groupings = {}\n",
    "    unrelated_set = set(items) - related_set\n",
    "\n",
    "\n",
    "    # Make sure items are in the same order as items list\n",
    "    unrelated_items = []\n",
    "    for item in items:\n",
    "        if item in unrelated_set:\n",
    "            unrelated_items.append(item)\n",
    "\n",
    "    related_items = []\n",
    "    for item in items:\n",
    "        if item in related_set:\n",
    "            related_items.append(item)\n",
    "\n",
    "    groupings[condition] = {\n",
    "        'unmentioned': unrelated_items,\n",
    "        'mentioned': related_items\n",
    "    }\n",
    "\n",
    "    utils.write_file(groupings, groupings_path, overwrite=overwrite)\n",
    "    return groupings\n",
    "\n",
    "mentioned_groupings_path = os.path.join(PATH_TO_ROOT, 'data/files/mentioned_groupings.json')\n",
    "items = utils.read_file(items_path)\n",
    "mentioned_groupings = prep_mentioned_analysis(\n",
    "    groupings_path=mentioned_groupings_path,\n",
    "    items=items,\n",
    "    condition=\"mentioned\"\n",
    ")\n",
    "\n",
    "# Prep data for R analysis\n",
    "rating_df = utils.read_file(ratings_path)\n",
    "items = utils.read_file(items_path)\n",
    "\n",
    "utils.informal_log(\"Preparing DFs for mentioned vs unmentioned R analysis\")\n",
    "analysis.prepare_R_df(\n",
    "    rating_df=rating_df,\n",
    "    groupings=mentioned_groupings,\n",
    "    save_dir=mentioned_R_csv_save_dir,\n",
    "    separate_groups=separate_groups,\n",
    "    overwrite=True\n",
    ")\n",
    "utils.informal_log(\"\\nCopying item groupings with R formatting\")\n",
    "analysis.copy_groupings(\n",
    "    groupings=mentioned_groupings,\n",
    "    all_items=items,\n",
    "    save_dir=mentioned_R_csv_save_dir)"
   ]
  },
  {
   "cell_type": "code",
   "execution_count": 5,
   "id": "1dbf1d3f",
   "metadata": {},
   "outputs": [
    {
     "name": "stdout",
     "output_type": "stream",
     "text": [
      "Saving results to ../analysis/mental_capacities/body-heart-mind/mentioned_analysis/R/results/results.txt \n"
     ]
    },
    {
     "data": {
      "text/plain": [
       "Loading required package: lme4\n",
       "Loading required package: Matrix\n",
       "\n",
       "Attaching package: ‘lmerTest’\n",
       "\n",
       "The following object is masked from ‘package:lme4’:\n",
       "\n",
       "    lmer\n",
       "\n",
       "The following object is masked from ‘package:stats’:\n",
       "\n",
       "    step\n",
       "\n",
       "\n",
       "Attaching package: ‘dplyr’\n",
       "\n",
       "The following objects are masked from ‘package:stats’:\n",
       "\n",
       "    filter, lag\n",
       "\n",
       "The following objects are masked from ‘package:base’:\n",
       "\n",
       "    intersect, setdiff, setequal, union\n",
       "\n",
       "\n",
       "Attaching package: ‘tidyr’\n",
       "\n",
       "The following objects are masked from ‘package:Matrix’:\n",
       "\n",
       "    expand, pack, unpack\n",
       "\n",
       "Welcome to emmeans.\n",
       "Caution: You lose important information if you filter this package's results.\n",
       "See '? untidy'\n",
       "NOTE: Results may be misleading due to involvement in interactions\n",
       "NOTE: Results may be misleading due to involvement in interactions\n",
       "refitting model(s) with ML (instead of REML)\n",
       "In addition: Warning message:\n",
       "In (function (package, help, pos = 2, lib.loc = NULL, character.only = FALSE,  :\n",
       "  library ‘/usr/share/R/library’ contains no packages\n"
      ]
     },
     "metadata": {},
     "output_type": "display_data"
    }
   ],
   "source": [
    "%%R\n",
    "source(\"src/mixed_effect_models.R\")\n",
    "\n",
    "mentioned_items_analysis(\n",
    "    df_path=\"../analysis/mental_capacities/body-heart-mind/mentioned_analysis/R/input_files/mentioned_analysis.csv\",\n",
    "    save_dir=\"../analysis/mental_capacities/body-heart-mind/mentioned_analysis/R/results\",\n",
    "    save_txt=TRUE\n",
    ")"
   ]
  },
  {
   "cell_type": "code",
   "execution_count": null,
   "id": "22880848",
   "metadata": {},
   "outputs": [],
   "source": []
  }
 ],
 "metadata": {
  "kernelspec": {
   "display_name": "aiexhibit",
   "language": "python",
   "name": "python3"
  },
  "language_info": {
   "codemirror_mode": {
    "name": "ipython",
    "version": 3
   },
   "file_extension": ".py",
   "mimetype": "text/x-python",
   "name": "python",
   "nbconvert_exporter": "python",
   "pygments_lexer": "ipython3",
   "version": "3.9.19"
  }
 },
 "nbformat": 4,
 "nbformat_minor": 5
}
