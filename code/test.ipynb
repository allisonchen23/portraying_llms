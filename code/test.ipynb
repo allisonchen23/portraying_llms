{
 "cells": [
  {
   "cell_type": "code",
   "execution_count": 1,
   "id": "d616da6b",
   "metadata": {},
   "outputs": [],
   "source": [
    "%load_ext autoreload\n",
    "%autoreload 2\n",
    "%reload_ext rpy2.ipython\n",
    "\n",
    "import os, sys\n",
    "import pandas as pd\n",
    "\n",
    "sys.path.insert(0, 'src')\n",
    "import utils\n",
    "import visualizations\n",
    "import analysis"
   ]
  },
  {
   "cell_type": "code",
   "execution_count": 2,
   "id": "09b44d68",
   "metadata": {},
   "outputs": [
    {
     "name": "stdout",
     "output_type": "stream",
     "text": [
      "Saving results to ../analysis/exploratory/mentioned_analysis/R/results/results.txt \n"
     ]
    },
    {
     "data": {
      "text/plain": [
       "Loading required package: lme4\n",
       "Loading required package: Matrix\n",
       "\n",
       "Attaching package: ‘lmerTest’\n",
       "\n",
       "The following object is masked from ‘package:lme4’:\n",
       "\n",
       "    lmer\n",
       "\n",
       "The following object is masked from ‘package:stats’:\n",
       "\n",
       "    step\n",
       "\n",
       "\n",
       "Attaching package: ‘dplyr’\n",
       "\n",
       "The following objects are masked from ‘package:stats’:\n",
       "\n",
       "    filter, lag\n",
       "\n",
       "The following objects are masked from ‘package:base’:\n",
       "\n",
       "    intersect, setdiff, setequal, union\n",
       "\n",
       "\n",
       "Attaching package: ‘tidyr’\n",
       "\n",
       "The following objects are masked from ‘package:Matrix’:\n",
       "\n",
       "    expand, pack, unpack\n",
       "\n",
       "Welcome to emmeans.\n",
       "Caution: You lose important information if you filter this package's results.\n",
       "See '? untidy'\n",
       "refitting model(s) with ML (instead of REML)\n",
       "NOTE: Results may be misleading due to involvement in interactions\n",
       "In addition: Warning message:\n",
       "In (function (package, help, pos = 2, lib.loc = NULL, character.only = FALSE,  :\n",
       "  library ‘/usr/share/R/library’ contains no packages\n"
      ]
     },
     "metadata": {},
     "output_type": "display_data"
    }
   ],
   "source": [
    "%%R\n",
    "source(\"src/mixed_effect_models.R\")\n",
    "\n",
    "mentioned_items_analysis(\n",
    "    df_path=\"../analysis/exploratory/mentioned_analysis/R/input_files/mentioned_analysis.csv\",\n",
    "    fa_df_path=\"../analysis/mental_capacities/factor_analysis/results/R/input_files/factor_analysis.csv\",\n",
    "    save_dir=\"../analysis/exploratory/mentioned_analysis/R/results\",\n",
    "    save_txt=TRUE\n",
    ")"
   ]
  },
  {
   "cell_type": "code",
   "execution_count": null,
   "id": "e4527ba7",
   "metadata": {},
   "outputs": [],
   "source": []
  }
 ],
 "metadata": {
  "kernelspec": {
   "display_name": "portraying_llms",
   "language": "python",
   "name": "python3"
  },
  "language_info": {
   "codemirror_mode": {
    "name": "ipython",
    "version": 3
   },
   "file_extension": ".py",
   "mimetype": "text/x-python",
   "name": "python",
   "nbconvert_exporter": "python",
   "pygments_lexer": "ipython3",
   "version": "3.9.21"
  }
 },
 "nbformat": 4,
 "nbformat_minor": 5
}
